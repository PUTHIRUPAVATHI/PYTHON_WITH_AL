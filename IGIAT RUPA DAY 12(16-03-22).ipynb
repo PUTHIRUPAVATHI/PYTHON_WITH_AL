{
 "cells": [
  {
   "cell_type": "markdown",
   "id": "042dcca3",
   "metadata": {},
   "source": [
    "# object oriented programming"
   ]
  },
  {
   "cell_type": "markdown",
   "id": "138b4af4",
   "metadata": {},
   "source": [
    "- python supports different programming approach\n",
    "- one of the popular approach to slove program by creating object and it is object oriented programming \n",
    "- object has two characterstics one is atributes and bheviour\n",
    "- eg :parrot is an object name age colour as atributes and dancing, singing, talking as bheviour"
   ]
  },
  {
   "cell_type": "markdown",
   "id": "2f358e53",
   "metadata": {},
   "source": [
    "# syntex"
   ]
  },
  {
   "cell_type": "code",
   "execution_count": null,
   "id": "1eb4f965",
   "metadata": {},
   "outputs": [],
   "source": [
    "class parrot:\n",
    "    pass # to aviod getting error"
   ]
  },
  {
   "cell_type": "code",
   "execution_count": 2,
   "id": "ffb11a3a",
   "metadata": {},
   "outputs": [
    {
     "name": "stdout",
     "output_type": "stream",
     "text": [
      "10\n"
     ]
    }
   ],
   "source": [
    "class parrot:\n",
    "    x = 10\n",
    "obj = parrot()\n",
    "print(obj.x)"
   ]
  },
  {
   "cell_type": "code",
   "execution_count": 3,
   "id": "15787397",
   "metadata": {},
   "outputs": [
    {
     "name": "stdout",
     "output_type": "stream",
     "text": [
      "hello im rupa\n"
     ]
    }
   ],
   "source": [
    "# create a method in class\n",
    "class cls:\n",
    "    #create a method\n",
    "    def test(self):\n",
    "        print(\"hello im rupa\")\n",
    "obj1 = cls()\n",
    "obj1.test()"
   ]
  },
  {
   "cell_type": "code",
   "execution_count": 5,
   "id": "e9f438f1",
   "metadata": {},
   "outputs": [
    {
     "name": "stdout",
     "output_type": "stream",
     "text": [
      "My name is : rupa\n"
     ]
    }
   ],
   "source": [
    "class cls1:\n",
    "    def test1(self,name):\n",
    "        print(\"My name is :\",name)\n",
    "obj2 = cls1()\n",
    "obj2.test1(\"rupa\")\n",
    " "
   ]
  },
  {
   "cell_type": "code",
   "execution_count": 11,
   "id": "6fb0c52d",
   "metadata": {},
   "outputs": [
    {
     "name": "stdout",
     "output_type": "stream",
     "text": [
      "10\n"
     ]
    }
   ],
   "source": [
    "# adding of numbers\n",
    "class cls:\n",
    "    def test(self,a,b,c):\n",
    "        print(a+b+c)\n",
    "obj = cls()\n",
    "obj.test(2,5,3)"
   ]
  },
  {
   "cell_type": "code",
   "execution_count": 12,
   "id": "3c53b639",
   "metadata": {},
   "outputs": [
    {
     "name": "stdout",
     "output_type": "stream",
     "text": [
      "8\n"
     ]
    }
   ],
   "source": [
    "class cls:\n",
    "    def test(self,a,b,c):\n",
    "        print(a*b*c)\n",
    "obj = cls()\n",
    "obj.test(2,2,2)"
   ]
  },
  {
   "cell_type": "markdown",
   "id": "66d9d741",
   "metadata": {},
   "source": [
    "# constructor:"
   ]
  },
  {
   "cell_type": "code",
   "execution_count": 14,
   "id": "9654139a",
   "metadata": {},
   "outputs": [
    {
     "name": "stdout",
     "output_type": "stream",
     "text": [
      "rupa\n",
      "21\n"
     ]
    }
   ],
   "source": [
    "class person:\n",
    "    def __init__(self,name,age):\n",
    "        self.name= name \n",
    "        self.age= age\n",
    "obj1= person(\"rupa\",21)\n",
    "print(obj1.name)\n",
    "print(obj1.age)\n",
    "        "
   ]
  },
  {
   "cell_type": "code",
   "execution_count": 16,
   "id": "50243abc",
   "metadata": {},
   "outputs": [
    {
     "name": "stdout",
     "output_type": "stream",
     "text": [
      "rupa\n",
      "21\n",
      "python\n"
     ]
    }
   ],
   "source": [
    "class person:\n",
    "    def __init__(self,name,age,course):\n",
    "        self.name= name \n",
    "        self.age= age\n",
    "        self.course= course\n",
    "obj1= person(\"rupa\",21,\"python\")\n",
    "print(obj1.name)\n",
    "print(obj1.age)\n",
    "print(obj1.course)        "
   ]
  },
  {
   "cell_type": "code",
   "execution_count": 21,
   "id": "b1f7600d",
   "metadata": {},
   "outputs": [
    {
     "name": "stdout",
     "output_type": "stream",
     "text": [
      "my name is :rupa\n",
      "rupa\n",
      "21\n"
     ]
    }
   ],
   "source": [
    "class person:\n",
    "    def __init__(self,name,age):\n",
    "        self.name= name \n",
    "        self.age= age\n",
    "    def mymethod(self):\n",
    "        print(\"my name is :\"+self.name)\n",
    "obj2 = person(\"rupa\",21)\n",
    "obj2.mymethod()\n",
    "print(obj1.name)\n",
    "print(obj1.age)"
   ]
  },
  {
   "cell_type": "code",
   "execution_count": 22,
   "id": "d8ab089f",
   "metadata": {},
   "outputs": [
    {
     "name": "stdout",
     "output_type": "stream",
     "text": [
      "my name is :lav\n",
      "lav\n",
      "21\n"
     ]
    }
   ],
   "source": [
    "class person:\n",
    "    def __init__(self,name,age):\n",
    "        self.name= name \n",
    "        self.age= age\n",
    "    def mymethod(self):\n",
    "        print(\"my name is :\"+self.name)\n",
    "obj2 = person(\"rupa\",21)\n",
    "obj2.age = 21\n",
    "obj2.name =\"lav\"\n",
    "obj2.mymethod()\n",
    "print(obj2.name)\n",
    "print(obj2.age)"
   ]
  },
  {
   "cell_type": "code",
   "execution_count": 28,
   "id": "808b2aab",
   "metadata": {},
   "outputs": [
    {
     "name": "stdout",
     "output_type": "stream",
     "text": [
      "my name is :lavu\n",
      "lavu\n"
     ]
    },
    {
     "ename": "AttributeError",
     "evalue": "'person' object has no attribute 'age'",
     "output_type": "error",
     "traceback": [
      "\u001b[1;31m---------------------------------------------------------------------------\u001b[0m",
      "\u001b[1;31mAttributeError\u001b[0m                            Traceback (most recent call last)",
      "\u001b[1;32mC:\\Users\\USER7~1\\AppData\\Local\\Temp/ipykernel_1748/2519773093.py\u001b[0m in \u001b[0;36m<module>\u001b[1;34m\u001b[0m\n\u001b[0;32m     11\u001b[0m \u001b[0mobj2\u001b[0m\u001b[1;33m.\u001b[0m\u001b[0mmymethod\u001b[0m\u001b[1;33m(\u001b[0m\u001b[1;33m)\u001b[0m\u001b[1;33m\u001b[0m\u001b[1;33m\u001b[0m\u001b[0m\n\u001b[0;32m     12\u001b[0m \u001b[0mprint\u001b[0m\u001b[1;33m(\u001b[0m\u001b[0mobj2\u001b[0m\u001b[1;33m.\u001b[0m\u001b[0mname\u001b[0m\u001b[1;33m)\u001b[0m\u001b[1;33m\u001b[0m\u001b[1;33m\u001b[0m\u001b[0m\n\u001b[1;32m---> 13\u001b[1;33m \u001b[0mprint\u001b[0m\u001b[1;33m(\u001b[0m\u001b[0mobj2\u001b[0m\u001b[1;33m.\u001b[0m\u001b[0mage\u001b[0m\u001b[1;33m)\u001b[0m\u001b[1;33m\u001b[0m\u001b[1;33m\u001b[0m\u001b[0m\n\u001b[0m",
      "\u001b[1;31mAttributeError\u001b[0m: 'person' object has no attribute 'age'"
     ]
    }
   ],
   "source": [
    "class person:\n",
    "    def __init__(self,name,age):\n",
    "        self.name= name \n",
    "        self.age= age\n",
    "    def mymethod(self):\n",
    "        print(\"my name is :\"+self.name)\n",
    "obj2 = person(\"rupa\",21)\n",
    "obj2.age = 21\n",
    "del obj2.age\n",
    "obj2.name =\"lavu\"\n",
    "obj2.mymethod()\n",
    "print(obj2.name)\n",
    "print(obj2.age)"
   ]
  },
  {
   "cell_type": "markdown",
   "id": "c37b6161",
   "metadata": {},
   "source": [
    "# inheritance:\n",
    "- it is way of creating a new class using detailes of existing class with out modifying it."
   ]
  },
  {
   "cell_type": "code",
   "execution_count": 32,
   "id": "0741b787",
   "metadata": {},
   "outputs": [
    {
     "name": "stdout",
     "output_type": "stream",
     "text": [
      "parrot is ready\n",
      "parrot\n",
      "fly fast\n"
     ]
    }
   ],
   "source": [
    "class bird:  # parent class \n",
    "    def __init__(self):\n",
    "        print(\"bird is ready\")\n",
    "    def whozthis(self):\n",
    "        print(\"bird\")\n",
    "    def fast(self) :\n",
    "        print(\"fly fast\")\n",
    "class parrot(bird):  # parent class \n",
    "    def __init__(self):\n",
    "        print(\"parrot is ready\")\n",
    "    def whozthis(self):\n",
    "        print(\"parrot\")\n",
    "    def run(self):\n",
    "        print(\"run faste\")\n",
    "obj = parrot()\n",
    "obj.whozthis()\n",
    "obj.fast()"
   ]
  },
  {
   "cell_type": "code",
   "execution_count": null,
   "id": "36383702",
   "metadata": {},
   "outputs": [],
   "source": []
  }
 ],
 "metadata": {
  "kernelspec": {
   "display_name": "Python 3 (ipykernel)",
   "language": "python",
   "name": "python3"
  },
  "language_info": {
   "codemirror_mode": {
    "name": "ipython",
    "version": 3
   },
   "file_extension": ".py",
   "mimetype": "text/x-python",
   "name": "python",
   "nbconvert_exporter": "python",
   "pygments_lexer": "ipython3",
   "version": "3.9.7"
  }
 },
 "nbformat": 4,
 "nbformat_minor": 5
}
