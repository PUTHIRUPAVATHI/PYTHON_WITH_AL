{
 "cells": [
  {
   "cell_type": "markdown",
   "id": "01296672",
   "metadata": {},
   "source": [
    "# RUPA\n",
    "## RUPA\n",
    "### RUPA\n",
    "#### RUPA\n",
    "\n",
    "# PYTHON\n",
    "- PYTHON1\n",
    "- PYTHON2\n",
    "\n",
    "# FONT STYLES\n",
    "- **PYTHON**\n",
    "- *PYTHON*\n",
    "- ***PYTHON***\n",
    " # PRINT FUNCTION():\n",
    " - **in  python print function used to print specific text or message**"
   ]
  },
  {
   "cell_type": "code",
   "execution_count": 1,
   "id": "a478b31f",
   "metadata": {},
   "outputs": [
    {
     "name": "stdout",
     "output_type": "stream",
     "text": [
      " hello world\n"
     ]
    }
   ],
   "source": [
    "print(\" hello world\")"
   ]
  },
  {
   "cell_type": "code",
   "execution_count": 5,
   "id": "853d3e2c",
   "metadata": {},
   "outputs": [
    {
     "name": "stdout",
     "output_type": "stream",
     "text": [
      " HELLO,SindU\n"
     ]
    }
   ],
   "source": [
    "print(\" HELLO,SindU\")"
   ]
  },
  {
   "cell_type": "code",
   "execution_count": 3,
   "id": "4ee0feca",
   "metadata": {},
   "outputs": [
    {
     "name": "stdout",
     "output_type": "stream",
     "text": [
      "rupa  sindu anil prudhvi\n"
     ]
    }
   ],
   "source": [
    "print(\"rupa\",\" sindu\",\"anil\",\"prudhvi\")"
   ]
  },
  {
   "cell_type": "markdown",
   "id": "633aacf7",
   "metadata": {},
   "source": [
    "# variable:\n",
    "-**To store some data valies**"
   ]
  },
  {
   "cell_type": "code",
   "execution_count": 6,
   "id": "f5b5c63e",
   "metadata": {},
   "outputs": [
    {
     "name": "stdout",
     "output_type": "stream",
     "text": [
      "10\n"
     ]
    }
   ],
   "source": [
    "a=10 #single value assinged to single variable\n",
    "print(a)"
   ]
  },
  {
   "cell_type": "code",
   "execution_count": 7,
   "id": "35230994",
   "metadata": {},
   "outputs": [
    {
     "name": "stdout",
     "output_type": "stream",
     "text": [
      "10 10 10\n"
     ]
    }
   ],
   "source": [
    "a=b=c=10 #single value assinged to multiple variable\n",
    "print(a,b,c)"
   ]
  },
  {
   "cell_type": "code",
   "execution_count": 8,
   "id": "5908b775",
   "metadata": {},
   "outputs": [
    {
     "name": "stdout",
     "output_type": "stream",
     "text": [
      "10 15 20\n"
     ]
    }
   ],
   "source": [
    "a,b,c=10,15,20#multiple variable assinged to multiple variable\n",
    "print(a,b,c)"
   ]
  },
  {
   "cell_type": "markdown",
   "id": "438dd885",
   "metadata": {},
   "source": [
    "# input function\n",
    "- **accept input from user**"
   ]
  },
  {
   "cell_type": "code",
   "execution_count": null,
   "id": "e28a601a",
   "metadata": {},
   "outputs": [],
   "source": [
    "# Input as text\n",
    "x = input(\"Enter your name :\")\n",
    "print(\"your name is:\",x)\n",
    "print(type(x))"
   ]
  },
  {
   "cell_type": "code",
   "execution_count": null,
   "id": "6a84e481",
   "metadata": {},
   "outputs": [],
   "source": [
    "# input as number \n",
    "n = int(input(\"enter a number :\"))\n",
    "print(n)\n",
    "print(type(n))"
   ]
  },
  {
   "cell_type": "markdown",
   "id": "a7bb30f9",
   "metadata": {},
   "source": [
    "# data types:"
   ]
  },
  {
   "cell_type": "code",
   "execution_count": 1,
   "id": "c95fc8f5",
   "metadata": {},
   "outputs": [
    {
     "name": "stdout",
     "output_type": "stream",
     "text": [
      "10\n",
      "<class 'int'>\n"
     ]
    }
   ],
   "source": [
    "# Integer\n",
    "x = 10\n",
    "print(x)\n",
    "print(type(x))"
   ]
  },
  {
   "cell_type": "code",
   "execution_count": 2,
   "id": "88752be8",
   "metadata": {},
   "outputs": [
    {
     "name": "stdout",
     "output_type": "stream",
     "text": [
      "5 <class 'int'>\n",
      "5.0 <class 'float'>\n",
      "5 <class 'str'>\n"
     ]
    }
   ],
   "source": [
    "# integer\n",
    "n = 5\n",
    "print(n,type(n))\n",
    "f = float(n)\n",
    "print(f,type(f))\n",
    "s = str(n)\n",
    "print(s,type(s))"
   ]
  },
  {
   "cell_type": "code",
   "execution_count": 4,
   "id": "e281a510",
   "metadata": {},
   "outputs": [
    {
     "name": "stdout",
     "output_type": "stream",
     "text": [
      "12345 <class 'str'>\n",
      "12345 <class 'int'>\n",
      "12345.0 <class 'float'>\n"
     ]
    }
   ],
   "source": [
    "# string\n",
    "s = \"12345\"\n",
    "print(s,type(s))\n",
    "n = int(s)\n",
    "print(n,type(n))\n",
    "f = float(s)\n",
    "print(f,type(f))"
   ]
  },
  {
   "cell_type": "code",
   "execution_count": 6,
   "id": "938ce36c",
   "metadata": {},
   "outputs": [
    {
     "name": "stdout",
     "output_type": "stream",
     "text": [
      "3.2 <class 'float'>\n",
      "3.2 <class 'str'>\n",
      "3 <class 'int'>\n"
     ]
    }
   ],
   "source": [
    "# float\n",
    "f = 3.2\n",
    "print(f,type(f))\n",
    "s = str(f)\n",
    "print(s,type(s))\n",
    "n = int(f)\n",
    "print(n,type(n))\n"
   ]
  },
  {
   "cell_type": "markdown",
   "id": "ccce8ad9",
   "metadata": {},
   "source": [
    "Display three string “Name”, “Is”, “James” as “Name**Is**James”"
   ]
  },
  {
   "cell_type": "code",
   "execution_count": 2,
   "id": "e5a8c10d",
   "metadata": {},
   "outputs": [
    {
     "name": "stdout",
     "output_type": "stream",
     "text": [
      "NAME IS JAMES\n"
     ]
    }
   ],
   "source": [
    "\n",
    "C = \"NAME\"\n",
    "R = \"IS\"\n",
    "P = \"JAMES\"\n",
    "print(C,R,P)"
   ]
  },
  {
   "cell_type": "markdown",
   "id": "0427ba61",
   "metadata": {},
   "source": [
    "Display three string “Name”, “Is”, “James” as “Name**Is**James”"
   ]
  },
  {
   "cell_type": "code",
   "execution_count": 1,
   "id": "295bca3e",
   "metadata": {},
   "outputs": [
    {
     "name": "stdout",
     "output_type": "stream",
     "text": [
      "enter radius:5\n",
      "78.5\n"
     ]
    }
   ],
   "source": [
    "pi = 3.14\n",
    "r = int(input(\"enter radius:\"))\n",
    "print(pi*r*r)"
   ]
  },
  {
   "cell_type": "code",
   "execution_count": 3,
   "id": "d12a0c89",
   "metadata": {},
   "outputs": [
    {
     "name": "stdout",
     "output_type": "stream",
     "text": [
      "2\n",
      "4\n",
      "6 -2 0.5 8\n"
     ]
    }
   ],
   "source": [
    "a = int(input())\n",
    "b = int(input())\n",
    "c = a+b\n",
    "d = a-b\n",
    "e = a/b\n",
    "f = a*b\n",
    "print(c,d,e,f)"
   ]
  },
  {
   "cell_type": "markdown",
   "id": "96bbf88a",
   "metadata": {},
   "source": [
    "Using input() function, print() function and another function you may need; ask for the current year, then print the answer +50.\n",
    "\n",
    "\n",
    "\n",
    "\n",
    "\n"
   ]
  },
  {
   "cell_type": "code",
   "execution_count": 4,
   "id": "bfe4e7c6",
   "metadata": {},
   "outputs": [
    {
     "name": "stdout",
     "output_type": "stream",
     "text": [
      "enter a year:2021\n",
      "2071\n"
     ]
    }
   ],
   "source": [
    "x = int(input(\"enter a year:\"))\n",
    "x = x+50\n",
    "print(x)"
   ]
  },
  {
   "cell_type": "code",
   "execution_count": null,
   "id": "eed43808",
   "metadata": {},
   "outputs": [],
   "source": []
  }
 ],
 "metadata": {
  "kernelspec": {
   "display_name": "Python 3",
   "language": "python",
   "name": "python3"
  },
  "language_info": {
   "codemirror_mode": {
    "name": "ipython",
    "version": 3
   },
   "file_extension": ".py",
   "mimetype": "text/x-python",
   "name": "python",
   "nbconvert_exporter": "python",
   "pygments_lexer": "ipython3",
   "version": "3.8.8"
  }
 },
 "nbformat": 4,
 "nbformat_minor": 5
}
