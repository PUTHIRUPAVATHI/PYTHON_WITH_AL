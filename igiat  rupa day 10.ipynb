{
 "cells": [
  {
   "cell_type": "markdown",
   "id": "86b80448",
   "metadata": {},
   "source": [
    "# contact application"
   ]
  },
  {
   "cell_type": "code",
   "execution_count": 9,
   "id": "5feee5d3",
   "metadata": {},
   "outputs": [
    {
     "name": "stdout",
     "output_type": "stream",
     "text": [
      "contact is added\n"
     ]
    }
   ],
   "source": [
    "# add contact\n",
    "contacts={}\n",
    "def addcontacts (name,number):\n",
    "    if name not in contacts:\n",
    "        contacts[name]= number\n",
    "        print(\"contact is added\")\n",
    "    else:\n",
    "             print(\"contacts already exist\")\n",
    "addcontacts(\"rupa\",\"2246628587\")"
   ]
  },
  {
   "cell_type": "code",
   "execution_count": 10,
   "id": "d64728df",
   "metadata": {},
   "outputs": [
    {
     "data": {
      "text/plain": [
       "{'rupa': '2246628587'}"
      ]
     },
     "execution_count": 10,
     "metadata": {},
     "output_type": "execute_result"
    }
   ],
   "source": [
    "contacts"
   ]
  },
  {
   "cell_type": "code",
   "execution_count": 14,
   "id": "822a7ec4",
   "metadata": {},
   "outputs": [
    {
     "name": "stdout",
     "output_type": "stream",
     "text": [
      "contact is added\n"
     ]
    }
   ],
   "source": [
    "addcontacts(\"anil\",\"159789655\")"
   ]
  },
  {
   "cell_type": "code",
   "execution_count": 18,
   "id": "762a75bf",
   "metadata": {},
   "outputs": [
    {
     "name": "stdout",
     "output_type": "stream",
     "text": [
      "contacts already exist\n"
     ]
    }
   ],
   "source": [
    "addcontacts(\"rupa\",\"2246628587\")"
   ]
  },
  {
   "cell_type": "code",
   "execution_count": 12,
   "id": "1807b119",
   "metadata": {},
   "outputs": [
    {
     "name": "stdout",
     "output_type": "stream",
     "text": [
      "rupa : 2246628587\n"
     ]
    }
   ],
   "source": [
    "# search contacts\n",
    "def searchcontacts(name):\n",
    "    if name in contacts:\n",
    "        print(name,\":\",contacts[name])\n",
    "    else:\n",
    "        print(\"contact not exist\")\n",
    "searchcontacts(\"rupa\")       "
   ]
  },
  {
   "cell_type": "code",
   "execution_count": 15,
   "id": "8a5ef8e0",
   "metadata": {},
   "outputs": [
    {
     "name": "stdout",
     "output_type": "stream",
     "text": [
      "anil : 159789655\n"
     ]
    }
   ],
   "source": [
    "searchcontacts(\"anil\")"
   ]
  },
  {
   "cell_type": "code",
   "execution_count": 16,
   "id": "17e0fd00",
   "metadata": {},
   "outputs": [
    {
     "name": "stdout",
     "output_type": "stream",
     "text": [
      "contact not exist\n"
     ]
    }
   ],
   "source": [
    "searchcontacts(\"prudhvi\")"
   ]
  },
  {
   "cell_type": "code",
   "execution_count": 21,
   "id": "d2ace317",
   "metadata": {},
   "outputs": [
    {
     "name": "stdout",
     "output_type": "stream",
     "text": [
      "anil : 159789655\n"
     ]
    }
   ],
   "source": [
    "searchcontacts(\"anil\")"
   ]
  },
  {
   "cell_type": "code",
   "execution_count": 20,
   "id": "cebba71c",
   "metadata": {},
   "outputs": [
    {
     "name": "stdout",
     "output_type": "stream",
     "text": [
      "contact not exist\n"
     ]
    }
   ],
   "source": [
    "searchcontact(\"kesav\")"
   ]
  },
  {
   "cell_type": "code",
   "execution_count": 31,
   "id": "9a3e03ef",
   "metadata": {},
   "outputs": [
    {
     "name": "stdout",
     "output_type": "stream",
     "text": [
      "contacts is delete\n"
     ]
    }
   ],
   "source": [
    "# delete contacts\n",
    "def deletecontacts(name):\n",
    "    if name in contacts:\n",
    "        del contacts[name]\n",
    "        print(\"contacts is delete\")\n",
    "    else:\n",
    "        print(\"contacts not exist\")\n",
    "deletecontacts(\"rupa\")        \n",
    "        \n",
    "        "
   ]
  },
  {
   "cell_type": "code",
   "execution_count": 32,
   "id": "c8c9bfcf",
   "metadata": {},
   "outputs": [
    {
     "name": "stdout",
     "output_type": "stream",
     "text": [
      "contacts is delete\n"
     ]
    }
   ],
   "source": [
    "deletecontacts(\"anil\")"
   ]
  },
  {
   "cell_type": "code",
   "execution_count": 33,
   "id": "31c51df4",
   "metadata": {},
   "outputs": [
    {
     "name": "stdout",
     "output_type": "stream",
     "text": [
      "contacts not exist\n"
     ]
    }
   ],
   "source": [
    "deletecontacts(\"kesav\")"
   ]
  },
  {
   "cell_type": "code",
   "execution_count": 34,
   "id": "c908d5ce",
   "metadata": {},
   "outputs": [
    {
     "name": "stdout",
     "output_type": "stream",
     "text": [
      "contact not exist\n"
     ]
    }
   ],
   "source": [
    "searchcontact(\"anil\")"
   ]
  },
  {
   "cell_type": "code",
   "execution_count": 35,
   "id": "9808a6b3",
   "metadata": {},
   "outputs": [
    {
     "name": "stdout",
     "output_type": "stream",
     "text": [
      "contacts not exist\n"
     ]
    }
   ],
   "source": [
    "deletecontacts(\"anil\")"
   ]
  },
  {
   "cell_type": "code",
   "execution_count": 38,
   "id": "ba0c5ef1",
   "metadata": {},
   "outputs": [
    {
     "name": "stdout",
     "output_type": "stream",
     "text": [
      "3 contacts are added\n"
     ]
    }
   ],
   "source": [
    "#merge contacts:\n",
    "def mergecontacts(newcontacts):\n",
    "    contacts.update(newcontacts)\n",
    "    print(len(newcontacts.keys()),\"contacts are added\")\n",
    "newcontacts ={\"raj\":\"567879655487\",\"ramu\":\"762476247\",\"lavu\":\"728712485\"}\n",
    "mergecontacts(newcontacts)"
   ]
  },
  {
   "cell_type": "code",
   "execution_count": 39,
   "id": "b1dff84a",
   "metadata": {},
   "outputs": [
    {
     "data": {
      "text/plain": [
       "{'raj': '567879655487', 'ramu': '762476247', 'lavu': '728712485'}"
      ]
     },
     "execution_count": 39,
     "metadata": {},
     "output_type": "execute_result"
    }
   ],
   "source": [
    "contacts"
   ]
  },
  {
   "cell_type": "markdown",
   "id": "5a691e5e",
   "metadata": {},
   "source": [
    "# string\n",
    "- upper\n",
    "- lower\n",
    "- join\n",
    "- split\n",
    "- replace"
   ]
  },
  {
   "cell_type": "code",
   "execution_count": 40,
   "id": "573aa2c9",
   "metadata": {},
   "outputs": [
    {
     "name": "stdout",
     "output_type": "stream",
     "text": [
      "rupavathi\n",
      "RUPAVATHI\n",
      "rupavathi\n",
      "r,u,p,a,v,a,t,h,i\n",
      "r@u@p@a@v@a@t@h@i\n"
     ]
    }
   ],
   "source": [
    "s = \"rupavathi\"\n",
    "print(s.lower())\n",
    "print(s.upper())\n",
    "print(\"\".join(s))\n",
    "print(\",\".join(s))\n",
    "print(\"@\".join(s))"
   ]
  },
  {
   "cell_type": "code",
   "execution_count": 41,
   "id": "a46d71a4",
   "metadata": {},
   "outputs": [
    {
     "name": "stdout",
     "output_type": "stream",
     "text": [
      "['rupavathi', 'is', 'gud', 'girl']\n",
      "['rupavathi i', ' gud girl']\n",
      "['rup', 'v', 'thi is gud girl']\n"
     ]
    }
   ],
   "source": [
    "# split method:\n",
    "s = \"rupavathi is gud girl\"\n",
    "print(s.split())\n",
    "print(s.split(\"s\"))\n",
    "print(s.split(\"a\"))"
   ]
  },
  {
   "cell_type": "code",
   "execution_count": 42,
   "id": "4e45f69b",
   "metadata": {},
   "outputs": [
    {
     "name": "stdout",
     "output_type": "stream",
     "text": [
      "rupavathi is nice girl\n"
     ]
    }
   ],
   "source": [
    "s = \"rupavathi is gud girl\"\n",
    "print(s.replace(\"gud\",\"nice\"))"
   ]
  },
  {
   "cell_type": "markdown",
   "id": "b41b1524",
   "metadata": {},
   "source": [
    "# boolean function\n",
    "- islower()\n",
    "- isupper()\n",
    "- istitle()\n",
    "- isalpha()\n",
    "- isnumeri()\n",
    "- isspace()"
   ]
  },
  {
   "cell_type": "code",
   "execution_count": 45,
   "id": "9145ce12",
   "metadata": {},
   "outputs": [
    {
     "name": "stdout",
     "output_type": "stream",
     "text": [
      "True\n",
      "False\n",
      "False\n"
     ]
    }
   ],
   "source": [
    "s = \"python\"         #starting letter indicates\n",
    "print(s.islower())    #small leter\n",
    "print(s.isupper())    #capital letter\n",
    "print(s.istitle())"
   ]
  },
  {
   "cell_type": "code",
   "execution_count": 49,
   "id": "87d415c2",
   "metadata": {},
   "outputs": [
    {
     "name": "stdout",
     "output_type": "stream",
     "text": [
      "False\n",
      "True\n",
      "True\n"
     ]
    }
   ],
   "source": [
    "s1 = \"Python\"\n",
    "print(s1.isupper())\n",
    "print(s1.istitle())\n",
    "print(s1.isalpha())"
   ]
  },
  {
   "cell_type": "code",
   "execution_count": 61,
   "id": "10017c87",
   "metadata": {},
   "outputs": [
    {
     "name": "stdout",
     "output_type": "stream",
     "text": [
      "True\n",
      "False\n"
     ]
    }
   ],
   "source": [
    "s3 = \"python\"\n",
    "print(s3.isalpha())\n",
    "print(s3.isnumeric())"
   ]
  },
  {
   "cell_type": "raw",
   "id": "feeb5457",
   "metadata": {},
   "source": [
    "s4 = \"1236544\"\n",
    "print(s4.isnumeric())"
   ]
  },
  {
   "cell_type": "code",
   "execution_count": 60,
   "id": "cd73d78a",
   "metadata": {},
   "outputs": [
    {
     "name": "stdout",
     "output_type": "stream",
     "text": [
      "True\n",
      "False\n"
     ]
    }
   ],
   "source": [
    "s5 = \" \"\n",
    "s6 = \" r \"\n",
    "print(s5.isspace())\n",
    "print(s6.isspace())"
   ]
  },
  {
   "cell_type": "markdown",
   "id": "df983249",
   "metadata": {},
   "source": [
    "# file handling\n",
    "- file handling play imporant role in making web application\n",
    "- in file handling to deal with ant file will use \n",
    "- in this **open** function will 2 parameter filename,mode\n",
    "- w--write to file \n",
    "- a--append to file \n",
    "- r-read to file"
   ]
  },
  {
   "cell_type": "code",
   "execution_count": 63,
   "id": "651b2f3a",
   "metadata": {},
   "outputs": [
    {
     "name": "stdout",
     "output_type": "stream",
     "text": [
      "welcome to python\n"
     ]
    }
   ],
   "source": [
    "f = open(\"rupa file.txt\",\"r\")\n",
    "print(f.read())"
   ]
  },
  {
   "cell_type": "code",
   "execution_count": 74,
   "id": "a2c9d45a",
   "metadata": {},
   "outputs": [
    {
     "name": "stdout",
     "output_type": "stream",
     "text": [
      "file is create\n"
     ]
    }
   ],
   "source": [
    "# creating a file \n",
    "def createfile(filename):\n",
    "    f = open (filename,\"w\")\n",
    "    for i in range(5):\n",
    "        f.write(\"nature\\n\")\n",
    "    print(\"file is create\")\n",
    "createfile(\"rups.txt\")    "
   ]
  },
  {
   "cell_type": "code",
   "execution_count": 75,
   "id": "04391165",
   "metadata": {},
   "outputs": [
    {
     "name": "stdout",
     "output_type": "stream",
     "text": [
      "file is create\n"
     ]
    }
   ],
   "source": [
    "#append a file \n",
    "def createfile(filename):\n",
    "    f = open (filename,\"a\")\n",
    "    for i in range(10):\n",
    "        f.write(\"sky\\n\")\n",
    "    print(\"file is create\")\n",
    "createfile(\"rups.txt\")    "
   ]
  },
  {
   "cell_type": "code",
   "execution_count": 72,
   "id": "ab9ffb03",
   "metadata": {},
   "outputs": [
    {
     "name": "stdout",
     "output_type": "stream",
     "text": [
      "welcome to python\n",
      "\n",
      "python1\n",
      "\n",
      "python2\n",
      "\n",
      "python3\n"
     ]
    }
   ],
   "source": [
    "f = open(\"rupa file.txt\",\"r\")\n",
    "print(f.readline())\n",
    "print(f.readline())\n",
    "print(f.readline())\n",
    "print(f.readline())"
   ]
  },
  {
   "cell_type": "code",
   "execution_count": null,
   "id": "86448a19",
   "metadata": {},
   "outputs": [],
   "source": []
  }
 ],
 "metadata": {
  "kernelspec": {
   "display_name": "Python 3 (ipykernel)",
   "language": "python",
   "name": "python3"
  },
  "language_info": {
   "codemirror_mode": {
    "name": "ipython",
    "version": 3
   },
   "file_extension": ".py",
   "mimetype": "text/x-python",
   "name": "python",
   "nbconvert_exporter": "python",
   "pygments_lexer": "ipython3",
   "version": "3.9.7"
  }
 },
 "nbformat": 4,
 "nbformat_minor": 5
}
