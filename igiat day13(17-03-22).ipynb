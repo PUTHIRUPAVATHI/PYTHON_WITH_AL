{
 "cells": [
  {
   "cell_type": "code",
   "execution_count": 2,
   "id": "77141059",
   "metadata": {},
   "outputs": [
    {
     "name": "stdout",
     "output_type": "stream",
     "text": [
      "1\n",
      "1\n"
     ]
    }
   ],
   "source": [
    "# floor\n",
    "import math as a\n",
    "print(a.floor(1.5))\n",
    "print(a.floor(1.6))\n"
   ]
  },
  {
   "cell_type": "code",
   "execution_count": 3,
   "id": "2a648e27",
   "metadata": {},
   "outputs": [
    {
     "name": "stdout",
     "output_type": "stream",
     "text": [
      "27.0\n",
      "19683.0\n"
     ]
    }
   ],
   "source": [
    "# power\n",
    "print(a.pow(3,3))\n",
    "print(a.pow(3,9))"
   ]
  },
  {
   "cell_type": "code",
   "execution_count": 4,
   "id": "69e782d1",
   "metadata": {},
   "outputs": [
    {
     "name": "stdout",
     "output_type": "stream",
     "text": [
      "254.46900494077323\n"
     ]
    }
   ],
   "source": [
    "# area of circle\n",
    "#pie*r*r\n",
    "r = 9\n",
    "pie = a.pi\n",
    "print(pie*r*r)"
   ]
  },
  {
   "cell_type": "markdown",
   "id": "292df840",
   "metadata": {},
   "source": [
    "# turtle module:"
   ]
  },
  {
   "cell_type": "code",
   "execution_count": 9,
   "id": "8ed4aede",
   "metadata": {},
   "outputs": [],
   "source": [
    "# draw a triangle \n",
    "import turtle as t\n",
    "turtle = t.Turtle()\n",
    "for i in range(3):\n",
    "    t.backward(100)\n",
    "    t.right(120)\n",
    "t.done()   "
   ]
  },
  {
   "cell_type": "code",
   "execution_count": 1,
   "id": "a18e0cb3",
   "metadata": {},
   "outputs": [],
   "source": [
    "# DRAW A SQUARE\n",
    "import turtle as t\n",
    "turtle = t.Turtle()\n",
    "for i in range(4):\n",
    "    t.backward(100)\n",
    "    t.right(90)\n",
    "t.done()    "
   ]
  },
  {
   "cell_type": "code",
   "execution_count": 1,
   "id": "ecff0b9d",
   "metadata": {},
   "outputs": [],
   "source": [
    "# draw a pentagon\n",
    "import turtle as t\n",
    "turtle = t.Turtle()\n",
    "for i in range(5):\n",
    "    t.backward(100)\n",
    "    t.right(72)\n",
    "t.done() "
   ]
  },
  {
   "cell_type": "code",
   "execution_count": 1,
   "id": "007cc078",
   "metadata": {},
   "outputs": [],
   "source": [
    "# draw a rectangle\n",
    "import turtle as t\n",
    "turtle = t.Turtle()\n",
    "t.color(\"pink\")\n",
    "for i in range(4):\n",
    "    t.backward(100)\n",
    "    t.right(90)\n",
    "    t.backward(50)\n",
    "    t.right(90)\n",
    "t.done() "
   ]
  },
  {
   "cell_type": "code",
   "execution_count": 3,
   "id": "cb9670eb",
   "metadata": {},
   "outputs": [],
   "source": [
    "# draw a circle\n",
    "import turtle as t\n",
    "turtle = t.Turtle()\n",
    "for i in range(360):\n",
    "    t.forward(1)\n",
    "    t.right(1)\n",
    "t.done() "
   ]
  },
  {
   "cell_type": "code",
   "execution_count": 1,
   "id": "3a2a155a",
   "metadata": {},
   "outputs": [],
   "source": [
    "# spiraling star \n",
    "import turtle as t\n",
    "turtle = t.Turtle()\n",
    "t.color(\"blue\")\n",
    "t.speed(200)\n",
    "for i in range(50):\n",
    "    t.forward(i*10)\n",
    "    t.right(144)\n",
    "t.done()    "
   ]
  },
  {
   "cell_type": "code",
   "execution_count": 1,
   "id": "f1ae7482",
   "metadata": {},
   "outputs": [],
   "source": [
    "# square star \n",
    "import turtle as t\n",
    "turtle = t.Turtle()\n",
    "t.color(\"blue\")\n",
    "t.speed(200)\n",
    "for i in range(200):\n",
    "    t.forward(i)\n",
    "    t.right(91)\n",
    "t.done()    "
   ]
  },
  {
   "cell_type": "code",
   "execution_count": 1,
   "id": "36518617",
   "metadata": {},
   "outputs": [],
   "source": [
    "#spirsling star\n",
    "import turtle as t\n",
    "turtle = t.Turtle()\n",
    "t.color(\"blue\")\n",
    "t.speed(300)\n",
    "for i in range(50):\n",
    "    t.forward(i*10)\n",
    "    t.right(144)\n",
    "t.done()    "
   ]
  },
  {
   "cell_type": "code",
   "execution_count": null,
   "id": "3c272bf6",
   "metadata": {},
   "outputs": [],
   "source": []
  }
 ],
 "metadata": {
  "kernelspec": {
   "display_name": "Python 3 (ipykernel)",
   "language": "python",
   "name": "python3"
  },
  "language_info": {
   "codemirror_mode": {
    "name": "ipython",
    "version": 3
   },
   "file_extension": ".py",
   "mimetype": "text/x-python",
   "name": "python",
   "nbconvert_exporter": "python",
   "pygments_lexer": "ipython3",
   "version": "3.9.7"
  }
 },
 "nbformat": 4,
 "nbformat_minor": 5
}
