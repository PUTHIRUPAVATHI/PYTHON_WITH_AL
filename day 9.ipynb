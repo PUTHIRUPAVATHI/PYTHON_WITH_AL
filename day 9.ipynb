{
 "cells": [
  {
   "cell_type": "markdown",
   "id": "42801b6a",
   "metadata": {},
   "source": [
    "# dictionaries:\n",
    "- it is used to store data values in **key:value**\n"
   ]
  },
  {
   "cell_type": "code",
   "execution_count": 2,
   "id": "4e02e33c",
   "metadata": {},
   "outputs": [
    {
     "name": "stdout",
     "output_type": "stream",
     "text": [
      "{'name': 'python', 'email': 'python@gmail.com'}\n",
      "<class 'dict'>\n"
     ]
    }
   ],
   "source": [
    "d1 = {\"name\":\"python\",\"email\":\"python@gmail.com\"}\n",
    "print(d1)\n",
    "print(type(d1))"
   ]
  },
  {
   "cell_type": "code",
   "execution_count": 3,
   "id": "d6c4d46d",
   "metadata": {},
   "outputs": [
    {
     "data": {
      "text/plain": [
       "dict_keys(['name', 'email'])"
      ]
     },
     "execution_count": 3,
     "metadata": {},
     "output_type": "execute_result"
    }
   ],
   "source": [
    "# access to key \n",
    "d1.keys()"
   ]
  },
  {
   "cell_type": "code",
   "execution_count": 4,
   "id": "530d2b6e",
   "metadata": {},
   "outputs": [
    {
     "data": {
      "text/plain": [
       "<function dict.values>"
      ]
     },
     "execution_count": 4,
     "metadata": {},
     "output_type": "execute_result"
    }
   ],
   "source": [
    "# access values\n",
    "d1.values"
   ]
  },
  {
   "cell_type": "code",
   "execution_count": 5,
   "id": "d1d38a3d",
   "metadata": {},
   "outputs": [
    {
     "name": "stdout",
     "output_type": "stream",
     "text": [
      "python\n"
     ]
    }
   ],
   "source": [
    "# access particular key \n",
    "print(d1[\"name\"])"
   ]
  },
  {
   "cell_type": "code",
   "execution_count": 7,
   "id": "879d9078",
   "metadata": {},
   "outputs": [
    {
     "name": "stdout",
     "output_type": "stream",
     "text": [
      "{'name': 'rupa', 'email': 'python@gmail.com'}\n"
     ]
    }
   ],
   "source": [
    "#access particular key value \n",
    "d1[\"name\"]=\"rupa\"\n",
    "print(d1)"
   ]
  },
  {
   "cell_type": "code",
   "execution_count": 8,
   "id": "21a1eef5",
   "metadata": {},
   "outputs": [
    {
     "data": {
      "text/plain": [
       "dict_items([('name', 'rupa'), ('email', 'python@gmail.com')])"
      ]
     },
     "execution_count": 8,
     "metadata": {},
     "output_type": "execute_result"
    }
   ],
   "source": [
    "d1.items()"
   ]
  },
  {
   "cell_type": "code",
   "execution_count": null,
   "id": "913cb650",
   "metadata": {},
   "outputs": [],
   "source": [
    "# update particular or key value \n"
   ]
  },
  {
   "cell_type": "code",
   "execution_count": null,
   "id": "53ab5479",
   "metadata": {},
   "outputs": [],
   "source": []
  }
 ],
 "metadata": {
  "kernelspec": {
   "display_name": "Python 3 (ipykernel)",
   "language": "python",
   "name": "python3"
  },
  "language_info": {
   "codemirror_mode": {
    "name": "ipython",
    "version": 3
   },
   "file_extension": ".py",
   "mimetype": "text/x-python",
   "name": "python",
   "nbconvert_exporter": "python",
   "pygments_lexer": "ipython3",
   "version": "3.9.7"
  }
 },
 "nbformat": 4,
 "nbformat_minor": 5
}
