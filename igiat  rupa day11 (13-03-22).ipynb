{
 "cells": [
  {
   "cell_type": "code",
   "execution_count": null,
   "id": "8eb43cc3",
   "metadata": {},
   "outputs": [],
   "source": [
    "# read a file\n",
    "def readfile(filename):\n",
    "    with open(filename,\"r\") as f:\n",
    "        \n"
   ]
  },
  {
   "cell_type": "code",
   "execution_count": 7,
   "id": "f0bff898",
   "metadata": {},
   "outputs": [
    {
     "data": {
      "text/plain": [
       "15"
      ]
     },
     "execution_count": 7,
     "metadata": {},
     "output_type": "execute_result"
    }
   ],
   "source": [
    "# word count\n",
    "def wordcount(filename):\n",
    "    with open(filename,\"r\") as f:\n",
    "        if f.mode ==\"r\":\n",
    "            x = f.read()\n",
    "            l = x.split()\n",
    "        return len(l) \n",
    "wordcount(\"rups.txt\")    "
   ]
  },
  {
   "cell_type": "code",
   "execution_count": 8,
   "id": "cfdcd9a9",
   "metadata": {},
   "outputs": [
    {
     "data": {
      "text/plain": [
       "0"
      ]
     },
     "execution_count": 8,
     "metadata": {},
     "output_type": "execute_result"
    }
   ],
   "source": [
    "# specific word count\n",
    "def specific(filename,word):\n",
    "    with open(filename,\"r\") as f:\n",
    "        if f.mode ==\"r\":\n",
    "            x = f.read()\n",
    "            l = x.split()\n",
    "            return l.count(word)\n",
    "specific(\"rups.txt\",\"line\")\n",
    "        "
   ]
  },
  {
   "cell_type": "code",
   "execution_count": 10,
   "id": "2b51e63d",
   "metadata": {},
   "outputs": [
    {
     "data": {
      "text/plain": [
       "75"
      ]
     },
     "execution_count": 10,
     "metadata": {},
     "output_type": "execute_result"
    }
   ],
   "source": [
    "# count character\n",
    "def char(filename):\n",
    "    with open(filename,\"r\") as f:\n",
    "        if f.mode == \"r\":\n",
    "            x = f.read()\n",
    "            l= list(x)\n",
    "        return len(l)\n",
    "char(\"rups.txt\")    "
   ]
  },
  {
   "cell_type": "code",
   "execution_count": 11,
   "id": "327ffac0",
   "metadata": {},
   "outputs": [
    {
     "data": {
      "text/plain": [
       "75"
      ]
     },
     "execution_count": 11,
     "metadata": {},
     "output_type": "execute_result"
    }
   ],
   "source": [
    "char(\"rups.txt\")"
   ]
  },
  {
   "cell_type": "code",
   "execution_count": 14,
   "id": "e91bde98",
   "metadata": {},
   "outputs": [
    {
     "data": {
      "text/plain": [
       "16"
      ]
     },
     "execution_count": 14,
     "metadata": {},
     "output_type": "execute_result"
    }
   ],
   "source": [
    "# count lines\n",
    "def countlines(filename):\n",
    "    with open(filename,\"r\") as f:\n",
    "        if f.mode ==\"r\":\n",
    "            x = f.read()\n",
    "            l = x.split(\"\\n\")\n",
    "        return len (l)\n",
    "countlines(\"rups.txt\")"
   ]
  },
  {
   "cell_type": "markdown",
   "id": "669d2a2c",
   "metadata": {},
   "source": [
    "# string slicing"
   ]
  },
  {
   "cell_type": "code",
   "execution_count": 15,
   "id": "3ace46d3",
   "metadata": {},
   "outputs": [
    {
     "name": "stdout",
     "output_type": "stream",
     "text": [
      "python programming <class 'str'>\n"
     ]
    }
   ],
   "source": [
    "s = \"python programming\"\n",
    "print(s,type(s))"
   ]
  },
  {
   "cell_type": "code",
   "execution_count": 17,
   "id": "7f4ae9ae",
   "metadata": {},
   "outputs": [
    {
     "name": "stdout",
     "output_type": "stream",
     "text": [
      "p\n",
      "g\n",
      "python \n",
      "ython pr\n"
     ]
    }
   ],
   "source": [
    "# access \n",
    "print(s[0])\n",
    "print(s[-1])\n",
    "print(s[0:7])\n",
    "print(s[1:9])"
   ]
  },
  {
   "cell_type": "code",
   "execution_count": 18,
   "id": "07299b72",
   "metadata": {},
   "outputs": [
    {
     "name": "stdout",
     "output_type": "stream",
     "text": [
      "ython programmin\n",
      "thon programmi\n"
     ]
    }
   ],
   "source": [
    "# want to spring\n",
    "print(s[1:-1])\n",
    "print(s[2:-2])\n"
   ]
  },
  {
   "cell_type": "code",
   "execution_count": 19,
   "id": "f0e3f132",
   "metadata": {},
   "outputs": [
    {
     "name": "stdout",
     "output_type": "stream",
     "text": [
      "gnimmargorp nohtyp\n",
      "gnimmargorp nohtyp\n"
     ]
    }
   ],
   "source": [
    "# reverse\n",
    "s = \"python programming\"\n",
    "print(s[::-1])\n",
    "print(s[-1::-1])"
   ]
  },
  {
   "cell_type": "code",
   "execution_count": 20,
   "id": "32b259ef",
   "metadata": {},
   "outputs": [
    {
     "data": {
      "text/plain": [
       "'gnimmargorp nohtyp'"
      ]
     },
     "execution_count": 20,
     "metadata": {},
     "output_type": "execute_result"
    }
   ],
   "source": [
    "def reverse(n):\n",
    "    return n[::-1]\n",
    "reverse(\"python programming\")"
   ]
  },
  {
   "cell_type": "markdown",
   "id": "334c2dc9",
   "metadata": {},
   "source": [
    "# ascii systems\n",
    "- A-Z..>65-90\n",
    "- a-z..>97-122\n",
    "- 0.9-48-57\n",
    "- space -35"
   ]
  },
  {
   "cell_type": "code",
   "execution_count": 21,
   "id": "be11179c",
   "metadata": {},
   "outputs": [
    {
     "name": "stdout",
     "output_type": "stream",
     "text": [
      "y 121 R 82\n"
     ]
    }
   ],
   "source": [
    "s =\"y\"\n",
    "s1 = \"R\"\n",
    "print(s,ord(s),s1,ord(s1))"
   ]
  },
  {
   "cell_type": "code",
   "execution_count": 22,
   "id": "1d71f45a",
   "metadata": {},
   "outputs": [
    {
     "name": "stdout",
     "output_type": "stream",
     "text": [
      "A B C D E F G H I J K L M N O P Q R S T U V W X Y Z "
     ]
    }
   ],
   "source": [
    "#A-Z\n",
    "for i in range(65,91):\n",
    "    print(chr(i),end =\" \")"
   ]
  },
  {
   "cell_type": "code",
   "execution_count": 28,
   "id": "a8a6a66b",
   "metadata": {},
   "outputs": [
    {
     "name": "stdout",
     "output_type": "stream",
     "text": [
      "a b c d e f g h i j k l m n o p q r s t u v w x y z "
     ]
    }
   ],
   "source": [
    "# a-z\n",
    "for i in range(97,123):\n",
    "    print(chr(i),end =\" \")"
   ]
  },
  {
   "cell_type": "code",
   "execution_count": 29,
   "id": "22e6ba2d",
   "metadata": {},
   "outputs": [],
   "source": [
    "# 0-9\n"
   ]
  },
  {
   "cell_type": "code",
   "execution_count": 30,
   "id": "15a1eebc",
   "metadata": {},
   "outputs": [
    {
     "data": {
      "text/plain": [
       "False"
      ]
     },
     "execution_count": 30,
     "metadata": {},
     "output_type": "execute_result"
    }
   ],
   "source": [
    "# check given string is palindrome or not\n",
    "def palindrome(s):\n",
    "    if s ==s[::-1]:\n",
    "        return True\n",
    "    return False\n",
    "palindrome(\"python\")"
   ]
  },
  {
   "cell_type": "code",
   "execution_count": 31,
   "id": "dfdeb048",
   "metadata": {},
   "outputs": [
    {
     "data": {
      "text/plain": [
       "True"
      ]
     },
     "execution_count": 31,
     "metadata": {},
     "output_type": "execute_result"
    }
   ],
   "source": [
    "palindrome(\"aha\")"
   ]
  },
  {
   "cell_type": "code",
   "execution_count": 32,
   "id": "422d2d00",
   "metadata": {},
   "outputs": [
    {
     "data": {
      "text/plain": [
       "False"
      ]
     },
     "execution_count": 32,
     "metadata": {},
     "output_type": "execute_result"
    }
   ],
   "source": [
    "palindrome(\"haha\")"
   ]
  },
  {
   "cell_type": "code",
   "execution_count": 33,
   "id": "e473ef44",
   "metadata": {},
   "outputs": [
    {
     "data": {
      "text/plain": [
       "True"
      ]
     },
     "execution_count": 33,
     "metadata": {},
     "output_type": "execute_result"
    }
   ],
   "source": [
    "palindrome(\"121\")"
   ]
  },
  {
   "cell_type": "code",
   "execution_count": 40,
   "id": "b260ca8f",
   "metadata": {},
   "outputs": [
    {
     "name": "stdout",
     "output_type": "stream",
     "text": [
      "R L "
     ]
    }
   ],
   "source": [
    "# print upper case character from given string\n",
    "def upper(x):\n",
    "    for i in range(len(x)):\n",
    "        if ord(x[i])>65 and ord(x[i])<91:\n",
    "            print(x[i],end=\" \")\n",
    "upper(\"Rupa,Lav\")            "
   ]
  },
  {
   "cell_type": "code",
   "execution_count": 43,
   "id": "ff66d111",
   "metadata": {},
   "outputs": [
    {
     "name": "stdout",
     "output_type": "stream",
     "text": [
      "s a i r a m "
     ]
    }
   ],
   "source": [
    "# PRINT LOWER CASE character from gviven string\n",
    "def lower(x):\n",
    "    for i in range(len(x)):\n",
    "        if ord(x[i])>96 and ord(x[i])<122:\n",
    "            print(x[i],end=\" \")\n",
    "lower(\"sai ram\")  "
   ]
  },
  {
   "cell_type": "code",
   "execution_count": 49,
   "id": "f2ceedff",
   "metadata": {},
   "outputs": [
    {
     "name": "stdout",
     "output_type": "stream",
     "text": [
      "1 2 3 3 4 5 "
     ]
    }
   ],
   "source": [
    "# print digits from given string\n",
    "def digits(x):\n",
    "    for i in range(len(x)):\n",
    "        if ord(x[i])>45 and ord(x[i])<58:\n",
    "            print(x[i],end=\" \")\n",
    "digits(\"python,1,2,3345\")  "
   ]
  },
  {
   "cell_type": "code",
   "execution_count": 52,
   "id": "2d9a98ec",
   "metadata": {},
   "outputs": [
    {
     "name": "stdout",
     "output_type": "stream",
     "text": [
      "1 2 3 3 4 2 5 4 8 5 4 5 1 5 "
     ]
    }
   ],
   "source": [
    "# print digits from given string\n",
    "def digits(x):\n",
    "    for i in range(len(x)):\n",
    "        if ord(x[i])>45 and ord(x[i])<58:\n",
    "            print(x[i],end=\" \")\n",
    "digits(\"python,1,2,334254854515\")  "
   ]
  },
  {
   "cell_type": "code",
   "execution_count": 22,
   "id": "452278fb",
   "metadata": {},
   "outputs": [
    {
     "data": {
      "text/plain": [
       "' rUpAvAtHi'"
      ]
     },
     "execution_count": 22,
     "metadata": {},
     "output_type": "execute_result"
    }
   ],
   "source": [
    "# input:RuPaVaThI\n",
    "#output:rUpAvAtHi\n",
    "def case(x):\n",
    "    s1 = \" \"\n",
    "    for i in range(len(x)):\n",
    "        if ord(x[i])>65 and ord(x[i])<91:\n",
    "            s1 +=chr(ord(x[i])+32)\n",
    "        elif ord(x[i])>96 and ord(x[i])<122:\n",
    "            s1 +=chr(ord(x[i])-32)\n",
    "    return s1\n",
    "case(\"RuPaVaThI\")"
   ]
  },
  {
   "cell_type": "code",
   "execution_count": 24,
   "id": "0262b9e5",
   "metadata": {},
   "outputs": [
    {
     "data": {
      "text/plain": [
       "' aBcD'"
      ]
     },
     "execution_count": 24,
     "metadata": {},
     "output_type": "execute_result"
    }
   ],
   "source": [
    "# input:AbCd\n",
    "#output:aBcD\n",
    "def case(x):\n",
    "    s1 = \" \"\n",
    "    for i in range(len(x)):\n",
    "        if ord(x[i])>64 and ord(x[i])\n",
    "            s1 +=chr(ord(x[i])+32)\n",
    "        elif ord(x[i])>96 and ord(x[i])<122:\n",
    "            s1 +=chr(ord(x[i])-32)\n",
    "    return s1\n",
    "case(\"AbCd\")"
   ]
  },
  {
   "cell_type": "code",
   "execution_count": 29,
   "id": "1061bfc3",
   "metadata": {},
   "outputs": [
    {
     "data": {
      "text/plain": [
       "10"
      ]
     },
     "execution_count": 29,
     "metadata": {},
     "output_type": "execute_result"
    }
   ],
   "source": [
    "# input:\"p1y2Y3o4\"\n",
    "# output:10(1+2+3+4)\n",
    "def sum(s):\n",
    "    sum = 0\n",
    "    for i in range(len(s)):\n",
    "        if ord(s[i])>=48 and ord(s[i])<=57:\n",
    "            sum += ord(s[i])- 48\n",
    "    return sum\n",
    "sum(\"p1y2Y3o4\") \n"
   ]
  },
  {
   "cell_type": "code",
   "execution_count": 41,
   "id": "fbe0a52d",
   "metadata": {},
   "outputs": [
    {
     "data": {
      "text/plain": [
       "11"
      ]
     },
     "execution_count": 41,
     "metadata": {},
     "output_type": "execute_result"
    }
   ],
   "source": [
    "# input:\"r8r5f6f\"\n",
    "# output:19(8+5+6)\n",
    "def sum(s):\n",
    "    sum = 0\n",
    "    for i in range(len(s)):\n",
    "        if ord(s[i])>=48 and ord(s[i])<=57:\n",
    "            sum += ord(s[i])- 48\n",
    "    return sum\n",
    "sum(\"r0r5f6f\") \n"
   ]
  },
  {
   "cell_type": "code",
   "execution_count": null,
   "id": "cf74fa43",
   "metadata": {},
   "outputs": [],
   "source": []
  },
  {
   "cell_type": "code",
   "execution_count": null,
   "id": "750bca7f",
   "metadata": {},
   "outputs": [],
   "source": []
  }
 ],
 "metadata": {
  "kernelspec": {
   "display_name": "Python 3 (ipykernel)",
   "language": "python",
   "name": "python3"
  },
  "language_info": {
   "codemirror_mode": {
    "name": "ipython",
    "version": 3
   },
   "file_extension": ".py",
   "mimetype": "text/x-python",
   "name": "python",
   "nbconvert_exporter": "python",
   "pygments_lexer": "ipython3",
   "version": "3.9.7"
  }
 },
 "nbformat": 4,
 "nbformat_minor": 5
}
