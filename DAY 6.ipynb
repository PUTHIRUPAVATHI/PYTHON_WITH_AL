{
 "cells": [
  {
   "cell_type": "markdown",
   "id": "6fb5ca13",
   "metadata": {},
   "source": [
    "# python operators\n",
    "- to perform operations ara both variables and values"
   ]
  },
  {
   "cell_type": "markdown",
   "id": "8e3b100d",
   "metadata": {},
   "source": [
    "# Arithmetical operations:\n",
    "- used to perform mathematical operations\n",
    "  - op"
   ]
  },
  {
   "cell_type": "code",
   "execution_count": 1,
   "id": "9223aa0f",
   "metadata": {},
   "outputs": [
    {
     "name": "stdout",
     "output_type": "stream",
     "text": [
      "15\n",
      "5\n",
      "2.0\n",
      "50\n",
      "0\n",
      "100000\n",
      "2\n"
     ]
    }
   ],
   "source": [
    "x = 10\n",
    "y = 5\n",
    "print(x+y)\n",
    "print(x-y)\n",
    "print(x/y)\n",
    "print(x*y)\n",
    "print(x%y)\n",
    "print(x**y)\n",
    "print(x//y)"
   ]
  },
  {
   "cell_type": "markdown",
   "id": "548994be",
   "metadata": {},
   "source": [
    "# assignment operations:\n",
    "- used to assign values to variable\n",
    "- operators:\n",
    "  "
   ]
  },
  {
   "cell_type": "code",
   "execution_count": 23,
   "id": "b10ec424",
   "metadata": {},
   "outputs": [
    {
     "name": "stdout",
     "output_type": "stream",
     "text": [
      "7\n",
      "5\n",
      "20\n",
      "10.0\n",
      "2.0\n",
      "16.0\n",
      "5.0\n"
     ]
    }
   ],
   "source": [
    "x = 3\n",
    "x +=4 #x =x+4\n",
    "print(x)\n",
    "x -=2\n",
    "print(x)\n",
    "x *=4\n",
    "print(x)\n",
    "x /=2\n",
    "print(x)\n",
    "x %=4\n",
    "print(x)\n",
    "x **=4\n",
    "print(x)\n",
    "x //=3\n",
    "print(x)"
   ]
  },
  {
   "cell_type": "markdown",
   "id": "8f71f5ed",
   "metadata": {},
   "source": [
    "# comparision operators\n",
    " - used to compare values\n",
    " - operators\n",
    " "
   ]
  },
  {
   "cell_type": "code",
   "execution_count": 9,
   "id": "dff747e2",
   "metadata": {},
   "outputs": [
    {
     "name": "stdout",
     "output_type": "stream",
     "text": [
      "False\n",
      "True\n",
      "True\n",
      "False\n",
      "False\n",
      "True\n"
     ]
    }
   ],
   "source": [
    "x = 4\n",
    "y = 7\n",
    "print(x==y)\n",
    "print(x!=y)\n",
    "print(x<y)\n",
    "print(x>y)\n",
    "print(x>y)\n",
    "print(x<y)"
   ]
  },
  {
   "cell_type": "code",
   "execution_count": null,
   "id": "e1ac803a",
   "metadata": {},
   "outputs": [],
   "source": []
  },
  {
   "cell_type": "markdown",
   "id": "eb17b303",
   "metadata": {},
   "source": [
    "# logical operators\n",
    "- used to compare conditional statements\n",
    "- operators\n",
    "- **'and'**\n"
   ]
  },
  {
   "cell_type": "code",
   "execution_count": 22,
   "id": "e2ef194f",
   "metadata": {},
   "outputs": [
    {
     "name": "stdout",
     "output_type": "stream",
     "text": [
      "False\n",
      "True\n"
     ]
    }
   ],
   "source": [
    "x = 10\n",
    "print (x < 5 and X > 6)\n",
    "print (x > 5 or x > 6)\n"
   ]
  },
  {
   "cell_type": "code",
   "execution_count": 16,
   "id": "6c52a6ce",
   "metadata": {},
   "outputs": [
    {
     "name": "stdout",
     "output_type": "stream",
     "text": [
      "False\n",
      "False\n"
     ]
    }
   ],
   "source": [
    "x = 3\n",
    "print(x > 4 and x < 5)\n",
    "print(x > 4 or x > 5)"
   ]
  },
  {
   "cell_type": "code",
   "execution_count": 17,
   "id": "3935ac62",
   "metadata": {},
   "outputs": [
    {
     "name": "stdout",
     "output_type": "stream",
     "text": [
      "True\n",
      "False\n",
      "True\n",
      "True\n"
     ]
    }
   ],
   "source": [
    "a = 2\n",
    "b = 2\n",
    "c = 6\n",
    "print(a is b)\n",
    "print(a is c)\n",
    "print(a is not c)\n",
    "print(a is b is not c)"
   ]
  },
  {
   "cell_type": "markdown",
   "id": "d94ee3e9",
   "metadata": {},
   "source": [
    "# membership operators\n",
    "- used to test given sequence is presented in object\n",
    "- in\n",
    "- not in"
   ]
  },
  {
   "cell_type": "code",
   "execution_count": 19,
   "id": "42b1d938",
   "metadata": {},
   "outputs": [
    {
     "name": "stdout",
     "output_type": "stream",
     "text": [
      "False\n",
      "True\n",
      "False\n"
     ]
    }
   ],
   "source": [
    "a = \"rupavathi\"\n",
    "print(\"y\" in a)\n",
    "print(\"va\" in a)\n",
    "print (\"ri\" in a)"
   ]
  },
  {
   "cell_type": "markdown",
   "id": "990feeb5",
   "metadata": {},
   "source": [
    "# control floe statement:\n",
    "- conditional statement\n",
    "  - if-else statements\n",
    "- looping statements\n",
    "  - while loop statement\n",
    "  - for loop statement\n",
    "  \n",
    "  \n"
   ]
  },
  {
   "cell_type": "markdown",
   "id": "8b235aac",
   "metadata": {},
   "source": [
    "# if-else statement\n"
   ]
  },
  {
   "cell_type": "code",
   "execution_count": 24,
   "id": "01df9d1b",
   "metadata": {},
   "outputs": [
    {
     "ename": "SyntaxError",
     "evalue": "invalid syntax (<ipython-input-24-7357c51d0a9c>, line 2)",
     "output_type": "error",
     "traceback": [
      "\u001b[1;36m  File \u001b[1;32m\"<ipython-input-24-7357c51d0a9c>\"\u001b[1;36m, line \u001b[1;32m2\u001b[0m\n\u001b[1;33m    if boolean condition:\u001b[0m\n\u001b[1;37m               ^\u001b[0m\n\u001b[1;31mSyntaxError\u001b[0m\u001b[1;31m:\u001b[0m invalid syntax\n"
     ]
    }
   ],
   "source": [
    "#syntax:\n",
    "if boolean condition:\n",
    "    statement\n",
    "elif:\n",
    "    statement\n",
    "else:\n",
    "    statement\n",
    "    \n",
    "    "
   ]
  },
  {
   "cell_type": "code",
   "execution_count": 26,
   "id": "26d479a6",
   "metadata": {},
   "outputs": [
    {
     "name": "stdout",
     "output_type": "stream",
     "text": [
      "enter a number:5\n",
      "odd number\n"
     ]
    }
   ],
   "source": [
    "# check given is even or odd \n",
    "n = int(input(\"enter a number:\"))\n",
    "if n %2 ==0:\n",
    "   print(\"even number\")\n",
    "else:\n",
    "    print(\"odd number\")"
   ]
  },
  {
   "cell_type": "code",
   "execution_count": 27,
   "id": "82f66a09",
   "metadata": {},
   "outputs": [
    {
     "name": "stdout",
     "output_type": "stream",
     "text": [
      "enter a number:9\n",
      "no\n"
     ]
    }
   ],
   "source": [
    "# check given is multiply of both 3 and 5\n",
    "n = int(input(\"enter a number:\"))\n",
    "if n%3==0 and n%5==0:\n",
    "    print(\"yes\")\n",
    "else:\n",
    "    print(\"no\")"
   ]
  },
  {
   "cell_type": "code",
   "execution_count": 1,
   "id": "534be0a4",
   "metadata": {},
   "outputs": [
    {
     "name": "stdout",
     "output_type": "stream",
     "text": [
      "enter a number:2\n",
      "postive\n"
     ]
    }
   ],
   "source": [
    "# check given number is postive number ,negative number or zero\n",
    "n =int(input(\"enter a number:\"))\n",
    "if n>0:\n",
    "    print(\"postive\")\n",
    "elif n<o:\n",
    "    print(\"negative\")\n",
    "else:\n",
    "    print(\"zero\") "
   ]
  },
  {
   "cell_type": "code",
   "execution_count": 11,
   "id": "3fe9d7a9",
   "metadata": {},
   "outputs": [
    {
     "name": "stdout",
     "output_type": "stream",
     "text": [
      "enter a number :20\n",
      "enter a number :15\n",
      "enter a number :10\n",
      "a \n"
     ]
    }
   ],
   "source": [
    "# find large number by given 3 inputs\n",
    "a = int(input(\"enter a number :\"))\n",
    "b = int(input(\"enter a number :\"))\n",
    "c = int(input(\"enter a number :\"))\n",
    "if a>b and a>c:\n",
    "    print(\"a \")\n",
    "elif b>a and b>c:\n",
    "    print(\"b\")\n",
    "else:\n",
    "    print(\"c\")"
   ]
  },
  {
   "cell_type": "code",
   "execution_count": 15,
   "id": "e5bdcca3",
   "metadata": {},
   "outputs": [
    {
     "name": "stdout",
     "output_type": "stream",
     "text": [
      "enter a number :25\n",
      "e\n"
     ]
    }
   ],
   "source": [
    "# find grading\n",
    "n = int(input(\"enter a number :\"))\n",
    "if n<25:\n",
    "    print(\"f\")\n",
    "elif n<45:\n",
    "    print(\"e\")\n",
    "elif n<50:\n",
    "    print(\"d\")\n",
    "elif n<60:\n",
    "    print(\"c\")\n",
    "elif n<80:\n",
    "    print(\"b\")\n",
    "else :\n",
    "    print(\"a\")\n",
    "    \n",
    "    "
   ]
  },
  {
   "cell_type": "markdown",
   "id": "8cae6809",
   "metadata": {},
   "source": [
    "# while loop statement "
   ]
  },
  {
   "cell_type": "code",
   "execution_count": 16,
   "id": "a23abc76",
   "metadata": {},
   "outputs": [
    {
     "name": "stdout",
     "output_type": "stream",
     "text": [
      "python\n",
      "python\n",
      "python\n",
      "python\n",
      "python\n"
     ]
    }
   ],
   "source": [
    "i = 0\n",
    "while i<5:\n",
    "    print(\"python\")\n",
    "    i = i+1"
   ]
  },
  {
   "cell_type": "code",
   "execution_count": 21,
   "id": "c3b16ff4",
   "metadata": {},
   "outputs": [
    {
     "name": "stdout",
     "output_type": "stream",
     "text": [
      "1\n",
      "2\n",
      "3\n",
      "4\n",
      "5\n",
      "6\n",
      "7\n",
      "8\n",
      "9\n",
      "10\n"
     ]
    }
   ],
   "source": [
    "# print 1 to 10 numbers\n",
    "i = 1\n",
    "while i<11:\n",
    "    print(i)\n",
    "    i = i+1"
   ]
  },
  {
   "cell_type": "code",
   "execution_count": 37,
   "id": "1de4a39f",
   "metadata": {},
   "outputs": [
    {
     "name": "stdout",
     "output_type": "stream",
     "text": [
      "2 4 6 8 10 "
     ]
    }
   ],
   "source": [
    "# print even number from 1 to 10\n",
    "i = 1\n",
    "while i<= 11:\n",
    "    if i%2== 0:   \n",
    "         print(i,end=\" \")\n",
    "    i = i+1   \n",
    " "
   ]
  },
  {
   "cell_type": "code",
   "execution_count": null,
   "id": "be880312",
   "metadata": {},
   "outputs": [],
   "source": [
    "# input :6 o/p: 1236\n",
    "i = 1\n",
    "n = int(input())\n",
    "while i<=n:\n",
    "    if n%i ==0:\n",
    "        print(i,end = ' ')\n",
    "    i = i+1  "
   ]
  },
  {
   "cell_type": "code",
   "execution_count": null,
   "id": "9a8deddf",
   "metadata": {},
   "outputs": [],
   "source": []
  },
  {
   "cell_type": "code",
   "execution_count": null,
   "id": "7d334e35",
   "metadata": {},
   "outputs": [],
   "source": []
  }
 ],
 "metadata": {
  "kernelspec": {
   "display_name": "Python 3",
   "language": "python",
   "name": "python3"
  },
  "language_info": {
   "codemirror_mode": {
    "name": "ipython",
    "version": 3
   },
   "file_extension": ".py",
   "mimetype": "text/x-python",
   "name": "python",
   "nbconvert_exporter": "python",
   "pygments_lexer": "ipython3",
   "version": "3.8.8"
  }
 },
 "nbformat": 4,
 "nbformat_minor": 5
}
